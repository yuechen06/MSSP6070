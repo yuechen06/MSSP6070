{
  "nbformat": 4,
  "nbformat_minor": 0,
  "metadata": {
    "colab": {
      "provenance": []
    },
    "kernelspec": {
      "name": "python3",
      "display_name": "Python 3"
    },
    "language_info": {
      "name": "python"
    }
  },
  "cells": [
    {
      "cell_type": "code",
      "execution_count": null,
      "metadata": {
        "colab": {
          "base_uri": "https://localhost:8080/"
        },
        "id": "mAGCzBZgzeXY",
        "outputId": "df9d6ae1-1e2b-4eea-fa71-3fc848d33ece"
      },
      "outputs": [
        {
          "output_type": "stream",
          "name": "stdout",
          "text": [
            "Cloning into 'MSSP6070'...\n",
            "remote: Enumerating objects: 76, done.\u001b[K\n",
            "remote: Counting objects: 100% (76/76), done.\u001b[K\n",
            "remote: Compressing objects: 100% (56/56), done.\u001b[K\n",
            "remote: Total 76 (delta 45), reused 29 (delta 16), pack-reused 0 (from 0)\u001b[K\n",
            "Receiving objects: 100% (76/76), 588.50 KiB | 3.25 MiB/s, done.\n",
            "Resolving deltas: 100% (45/45), done.\n",
            "/content/MSSP6070\n"
          ]
        },
        {
          "output_type": "execute_result",
          "data": {
            "text/plain": [
              "['amzn.csv', 'fb.csv', 'aapl.csv', 'nflx.csv', 'goog.csv']"
            ]
          },
          "metadata": {},
          "execution_count": 1
        }
      ],
      "source": [
        "# Clone repo into Colab\n",
        "!git clone https://github.com/yuechen06/MSSP6070.git\n",
        "%cd MSSP6070\n",
        "\n",
        "# Verify the Week 05 files can be access\n",
        "import os, pathlib\n",
        "path = pathlib.Path('data') / 'Week 05 Examples'\n",
        "os.listdir(path)\n"
      ]
    },
    {
      "cell_type": "code",
      "source": [
        "import pandas as pd\n",
        "from pathlib import Path\n",
        "\n",
        "# Paths\n",
        "DATA_DIR = Path('data') / 'Week 05 Examples'\n",
        "OUT_DIR = Path('data')\n",
        "OUT_DIR.mkdir(exist_ok=True)\n",
        "\n",
        "# The five files present in your repo\n",
        "csvs = ['aapl.csv', 'amzn.csv', 'nflx.csv', 'fb.csv', 'goog.csv']\n"
      ],
      "metadata": {
        "id": "rx9rOf5u3THY"
      },
      "execution_count": null,
      "outputs": []
    },
    {
      "cell_type": "code",
      "source": [
        "dfs = []\n",
        "\n",
        "for fname in csvs:\n",
        "    fp = DATA_DIR / fname\n",
        "    df = pd.read_csv(fp)\n",
        "\n",
        "    # normalize column names to lowercase to avoid mismatches later\n",
        "    df.columns = df.columns.str.lower()\n",
        "\n",
        "    # add ticker from file name (e.g., aapl.csv -> AAPL)\n",
        "    df['ticker'] = fname.split('.')[0].upper()\n",
        "    dfs.append(df)\n",
        "\n",
        "# Append all into a single dataframe\n",
        "faanf = pd.concat(dfs, ignore_index=True)\n",
        "\n",
        "# Quick sanity check\n",
        "print(faanf.shape)\n",
        "faanf.head()\n"
      ],
      "metadata": {
        "colab": {
          "base_uri": "https://localhost:8080/",
          "height": 224
        },
        "id": "LcdIxcym3Uus",
        "outputId": "0621e8cc-60e1-459a-e697-4db88be4e2fb"
      },
      "execution_count": null,
      "outputs": [
        {
          "output_type": "stream",
          "name": "stdout",
          "text": [
            "(1255, 7)\n"
          ]
        },
        {
          "output_type": "execute_result",
          "data": {
            "text/plain": [
              "         date      open      high       low     close    volume ticker\n",
              "0  2018-01-02  166.9271  169.0264  166.0442  168.9872  25555934   AAPL\n",
              "1  2018-01-03  169.2521  171.2337  168.6929  168.9578  29517899   AAPL\n",
              "2  2018-01-04  169.2619  170.1742  168.8106  169.7426  22434597   AAPL\n",
              "3  2018-01-05  170.1448  172.0381  169.7622  171.6751  23660018   AAPL\n",
              "4  2018-01-08  171.0375  172.2736  170.6255  171.0375  20567766   AAPL"
            ],
            "text/html": [
              "\n",
              "  <div id=\"df-78d90e29-2589-4136-a22c-2523caa06536\" class=\"colab-df-container\">\n",
              "    <div>\n",
              "<style scoped>\n",
              "    .dataframe tbody tr th:only-of-type {\n",
              "        vertical-align: middle;\n",
              "    }\n",
              "\n",
              "    .dataframe tbody tr th {\n",
              "        vertical-align: top;\n",
              "    }\n",
              "\n",
              "    .dataframe thead th {\n",
              "        text-align: right;\n",
              "    }\n",
              "</style>\n",
              "<table border=\"1\" class=\"dataframe\">\n",
              "  <thead>\n",
              "    <tr style=\"text-align: right;\">\n",
              "      <th></th>\n",
              "      <th>date</th>\n",
              "      <th>open</th>\n",
              "      <th>high</th>\n",
              "      <th>low</th>\n",
              "      <th>close</th>\n",
              "      <th>volume</th>\n",
              "      <th>ticker</th>\n",
              "    </tr>\n",
              "  </thead>\n",
              "  <tbody>\n",
              "    <tr>\n",
              "      <th>0</th>\n",
              "      <td>2018-01-02</td>\n",
              "      <td>166.9271</td>\n",
              "      <td>169.0264</td>\n",
              "      <td>166.0442</td>\n",
              "      <td>168.9872</td>\n",
              "      <td>25555934</td>\n",
              "      <td>AAPL</td>\n",
              "    </tr>\n",
              "    <tr>\n",
              "      <th>1</th>\n",
              "      <td>2018-01-03</td>\n",
              "      <td>169.2521</td>\n",
              "      <td>171.2337</td>\n",
              "      <td>168.6929</td>\n",
              "      <td>168.9578</td>\n",
              "      <td>29517899</td>\n",
              "      <td>AAPL</td>\n",
              "    </tr>\n",
              "    <tr>\n",
              "      <th>2</th>\n",
              "      <td>2018-01-04</td>\n",
              "      <td>169.2619</td>\n",
              "      <td>170.1742</td>\n",
              "      <td>168.8106</td>\n",
              "      <td>169.7426</td>\n",
              "      <td>22434597</td>\n",
              "      <td>AAPL</td>\n",
              "    </tr>\n",
              "    <tr>\n",
              "      <th>3</th>\n",
              "      <td>2018-01-05</td>\n",
              "      <td>170.1448</td>\n",
              "      <td>172.0381</td>\n",
              "      <td>169.7622</td>\n",
              "      <td>171.6751</td>\n",
              "      <td>23660018</td>\n",
              "      <td>AAPL</td>\n",
              "    </tr>\n",
              "    <tr>\n",
              "      <th>4</th>\n",
              "      <td>2018-01-08</td>\n",
              "      <td>171.0375</td>\n",
              "      <td>172.2736</td>\n",
              "      <td>170.6255</td>\n",
              "      <td>171.0375</td>\n",
              "      <td>20567766</td>\n",
              "      <td>AAPL</td>\n",
              "    </tr>\n",
              "  </tbody>\n",
              "</table>\n",
              "</div>\n",
              "    <div class=\"colab-df-buttons\">\n",
              "\n",
              "  <div class=\"colab-df-container\">\n",
              "    <button class=\"colab-df-convert\" onclick=\"convertToInteractive('df-78d90e29-2589-4136-a22c-2523caa06536')\"\n",
              "            title=\"Convert this dataframe to an interactive table.\"\n",
              "            style=\"display:none;\">\n",
              "\n",
              "  <svg xmlns=\"http://www.w3.org/2000/svg\" height=\"24px\" viewBox=\"0 -960 960 960\">\n",
              "    <path d=\"M120-120v-720h720v720H120Zm60-500h600v-160H180v160Zm220 220h160v-160H400v160Zm0 220h160v-160H400v160ZM180-400h160v-160H180v160Zm440 0h160v-160H620v160ZM180-180h160v-160H180v160Zm440 0h160v-160H620v160Z\"/>\n",
              "  </svg>\n",
              "    </button>\n",
              "\n",
              "  <style>\n",
              "    .colab-df-container {\n",
              "      display:flex;\n",
              "      gap: 12px;\n",
              "    }\n",
              "\n",
              "    .colab-df-convert {\n",
              "      background-color: #E8F0FE;\n",
              "      border: none;\n",
              "      border-radius: 50%;\n",
              "      cursor: pointer;\n",
              "      display: none;\n",
              "      fill: #1967D2;\n",
              "      height: 32px;\n",
              "      padding: 0 0 0 0;\n",
              "      width: 32px;\n",
              "    }\n",
              "\n",
              "    .colab-df-convert:hover {\n",
              "      background-color: #E2EBFA;\n",
              "      box-shadow: 0px 1px 2px rgba(60, 64, 67, 0.3), 0px 1px 3px 1px rgba(60, 64, 67, 0.15);\n",
              "      fill: #174EA6;\n",
              "    }\n",
              "\n",
              "    .colab-df-buttons div {\n",
              "      margin-bottom: 4px;\n",
              "    }\n",
              "\n",
              "    [theme=dark] .colab-df-convert {\n",
              "      background-color: #3B4455;\n",
              "      fill: #D2E3FC;\n",
              "    }\n",
              "\n",
              "    [theme=dark] .colab-df-convert:hover {\n",
              "      background-color: #434B5C;\n",
              "      box-shadow: 0px 1px 3px 1px rgba(0, 0, 0, 0.15);\n",
              "      filter: drop-shadow(0px 1px 2px rgba(0, 0, 0, 0.3));\n",
              "      fill: #FFFFFF;\n",
              "    }\n",
              "  </style>\n",
              "\n",
              "    <script>\n",
              "      const buttonEl =\n",
              "        document.querySelector('#df-78d90e29-2589-4136-a22c-2523caa06536 button.colab-df-convert');\n",
              "      buttonEl.style.display =\n",
              "        google.colab.kernel.accessAllowed ? 'block' : 'none';\n",
              "\n",
              "      async function convertToInteractive(key) {\n",
              "        const element = document.querySelector('#df-78d90e29-2589-4136-a22c-2523caa06536');\n",
              "        const dataTable =\n",
              "          await google.colab.kernel.invokeFunction('convertToInteractive',\n",
              "                                                    [key], {});\n",
              "        if (!dataTable) return;\n",
              "\n",
              "        const docLinkHtml = 'Like what you see? Visit the ' +\n",
              "          '<a target=\"_blank\" href=https://colab.research.google.com/notebooks/data_table.ipynb>data table notebook</a>'\n",
              "          + ' to learn more about interactive tables.';\n",
              "        element.innerHTML = '';\n",
              "        dataTable['output_type'] = 'display_data';\n",
              "        await google.colab.output.renderOutput(dataTable, element);\n",
              "        const docLink = document.createElement('div');\n",
              "        docLink.innerHTML = docLinkHtml;\n",
              "        element.appendChild(docLink);\n",
              "      }\n",
              "    </script>\n",
              "  </div>\n",
              "\n",
              "\n",
              "    <div id=\"df-41f55e82-60d5-4d57-be92-b123e09e7fec\">\n",
              "      <button class=\"colab-df-quickchart\" onclick=\"quickchart('df-41f55e82-60d5-4d57-be92-b123e09e7fec')\"\n",
              "                title=\"Suggest charts\"\n",
              "                style=\"display:none;\">\n",
              "\n",
              "<svg xmlns=\"http://www.w3.org/2000/svg\" height=\"24px\"viewBox=\"0 0 24 24\"\n",
              "     width=\"24px\">\n",
              "    <g>\n",
              "        <path d=\"M19 3H5c-1.1 0-2 .9-2 2v14c0 1.1.9 2 2 2h14c1.1 0 2-.9 2-2V5c0-1.1-.9-2-2-2zM9 17H7v-7h2v7zm4 0h-2V7h2v10zm4 0h-2v-4h2v4z\"/>\n",
              "    </g>\n",
              "</svg>\n",
              "      </button>\n",
              "\n",
              "<style>\n",
              "  .colab-df-quickchart {\n",
              "      --bg-color: #E8F0FE;\n",
              "      --fill-color: #1967D2;\n",
              "      --hover-bg-color: #E2EBFA;\n",
              "      --hover-fill-color: #174EA6;\n",
              "      --disabled-fill-color: #AAA;\n",
              "      --disabled-bg-color: #DDD;\n",
              "  }\n",
              "\n",
              "  [theme=dark] .colab-df-quickchart {\n",
              "      --bg-color: #3B4455;\n",
              "      --fill-color: #D2E3FC;\n",
              "      --hover-bg-color: #434B5C;\n",
              "      --hover-fill-color: #FFFFFF;\n",
              "      --disabled-bg-color: #3B4455;\n",
              "      --disabled-fill-color: #666;\n",
              "  }\n",
              "\n",
              "  .colab-df-quickchart {\n",
              "    background-color: var(--bg-color);\n",
              "    border: none;\n",
              "    border-radius: 50%;\n",
              "    cursor: pointer;\n",
              "    display: none;\n",
              "    fill: var(--fill-color);\n",
              "    height: 32px;\n",
              "    padding: 0;\n",
              "    width: 32px;\n",
              "  }\n",
              "\n",
              "  .colab-df-quickchart:hover {\n",
              "    background-color: var(--hover-bg-color);\n",
              "    box-shadow: 0 1px 2px rgba(60, 64, 67, 0.3), 0 1px 3px 1px rgba(60, 64, 67, 0.15);\n",
              "    fill: var(--button-hover-fill-color);\n",
              "  }\n",
              "\n",
              "  .colab-df-quickchart-complete:disabled,\n",
              "  .colab-df-quickchart-complete:disabled:hover {\n",
              "    background-color: var(--disabled-bg-color);\n",
              "    fill: var(--disabled-fill-color);\n",
              "    box-shadow: none;\n",
              "  }\n",
              "\n",
              "  .colab-df-spinner {\n",
              "    border: 2px solid var(--fill-color);\n",
              "    border-color: transparent;\n",
              "    border-bottom-color: var(--fill-color);\n",
              "    animation:\n",
              "      spin 1s steps(1) infinite;\n",
              "  }\n",
              "\n",
              "  @keyframes spin {\n",
              "    0% {\n",
              "      border-color: transparent;\n",
              "      border-bottom-color: var(--fill-color);\n",
              "      border-left-color: var(--fill-color);\n",
              "    }\n",
              "    20% {\n",
              "      border-color: transparent;\n",
              "      border-left-color: var(--fill-color);\n",
              "      border-top-color: var(--fill-color);\n",
              "    }\n",
              "    30% {\n",
              "      border-color: transparent;\n",
              "      border-left-color: var(--fill-color);\n",
              "      border-top-color: var(--fill-color);\n",
              "      border-right-color: var(--fill-color);\n",
              "    }\n",
              "    40% {\n",
              "      border-color: transparent;\n",
              "      border-right-color: var(--fill-color);\n",
              "      border-top-color: var(--fill-color);\n",
              "    }\n",
              "    60% {\n",
              "      border-color: transparent;\n",
              "      border-right-color: var(--fill-color);\n",
              "    }\n",
              "    80% {\n",
              "      border-color: transparent;\n",
              "      border-right-color: var(--fill-color);\n",
              "      border-bottom-color: var(--fill-color);\n",
              "    }\n",
              "    90% {\n",
              "      border-color: transparent;\n",
              "      border-bottom-color: var(--fill-color);\n",
              "    }\n",
              "  }\n",
              "</style>\n",
              "\n",
              "      <script>\n",
              "        async function quickchart(key) {\n",
              "          const quickchartButtonEl =\n",
              "            document.querySelector('#' + key + ' button');\n",
              "          quickchartButtonEl.disabled = true;  // To prevent multiple clicks.\n",
              "          quickchartButtonEl.classList.add('colab-df-spinner');\n",
              "          try {\n",
              "            const charts = await google.colab.kernel.invokeFunction(\n",
              "                'suggestCharts', [key], {});\n",
              "          } catch (error) {\n",
              "            console.error('Error during call to suggestCharts:', error);\n",
              "          }\n",
              "          quickchartButtonEl.classList.remove('colab-df-spinner');\n",
              "          quickchartButtonEl.classList.add('colab-df-quickchart-complete');\n",
              "        }\n",
              "        (() => {\n",
              "          let quickchartButtonEl =\n",
              "            document.querySelector('#df-41f55e82-60d5-4d57-be92-b123e09e7fec button');\n",
              "          quickchartButtonEl.style.display =\n",
              "            google.colab.kernel.accessAllowed ? 'block' : 'none';\n",
              "        })();\n",
              "      </script>\n",
              "    </div>\n",
              "\n",
              "    </div>\n",
              "  </div>\n"
            ],
            "application/vnd.google.colaboratory.intrinsic+json": {
              "type": "dataframe",
              "variable_name": "faanf",
              "summary": "{\n  \"name\": \"faanf\",\n  \"rows\": 1255,\n  \"fields\": [\n    {\n      \"column\": \"date\",\n      \"properties\": {\n        \"dtype\": \"object\",\n        \"num_unique_values\": 251,\n        \"samples\": [\n          \"2018-08-14\",\n          \"2018-01-10\",\n          \"2018-08-27\"\n        ],\n        \"semantic_type\": \"\",\n        \"description\": \"\"\n      }\n    },\n    {\n      \"column\": \"open\",\n      \"properties\": {\n        \"dtype\": \"number\",\n        \"std\": 599.5652935096393,\n        \"min\": 123.1,\n        \"max\": 2038.11,\n        \"num_unique_values\": 1239,\n        \"samples\": [\n          2006.51,\n          1297.17,\n          1600.0\n        ],\n        \"semantic_type\": \"\",\n        \"description\": \"\"\n      }\n    },\n    {\n      \"column\": \"high\",\n      \"properties\": {\n        \"dtype\": \"number\",\n        \"std\": 605.7522555484272,\n        \"min\": 129.74,\n        \"max\": 2050.5,\n        \"num_unique_values\": 1242,\n        \"samples\": [\n          182.61,\n          1139.91,\n          370.43\n        ],\n        \"semantic_type\": \"\",\n        \"description\": \"\"\n      }\n    },\n    {\n      \"column\": \"low\",\n      \"properties\": {\n        \"dtype\": \"number\",\n        \"std\": 591.542857885782,\n        \"min\": 123.02,\n        \"max\": 2013.0,\n        \"num_unique_values\": 1242,\n        \"samples\": [\n          178.62,\n          1117.01,\n          343.9001\n        ],\n        \"semantic_type\": \"\",\n        \"description\": \"\"\n      }\n    },\n    {\n      \"column\": \"close\",\n      \"properties\": {\n        \"dtype\": \"number\",\n        \"std\": 598.6714337364672,\n        \"min\": 124.06,\n        \"max\": 2039.51,\n        \"num_unique_values\": 1242,\n        \"samples\": [\n          172.5,\n          1137.51,\n          364.56\n        ],\n        \"semantic_type\": \"\",\n        \"description\": \"\"\n      }\n    },\n    {\n      \"column\": \"volume\",\n      \"properties\": {\n        \"dtype\": \"number\",\n        \"std\": 16813196,\n        \"min\": 679034,\n        \"max\": 169803668,\n        \"num_unique_values\": 1255,\n        \"samples\": [\n          1184452,\n          22514075,\n          39404688\n        ],\n        \"semantic_type\": \"\",\n        \"description\": \"\"\n      }\n    },\n    {\n      \"column\": \"ticker\",\n      \"properties\": {\n        \"dtype\": \"category\",\n        \"num_unique_values\": 5,\n        \"samples\": [\n          \"AMZN\",\n          \"GOOG\",\n          \"NFLX\"\n        ],\n        \"semantic_type\": \"\",\n        \"description\": \"\"\n      }\n    }\n  ]\n}"
            }
          },
          "metadata": {},
          "execution_count": 4
        }
      ]
    },
    {
      "cell_type": "code",
      "source": [
        "#2e:\n",
        "faanf_path = OUT_DIR / 'faanf.csv'\n",
        "faanf.to_csv(faanf_path, index=False)\n",
        "\n",
        "\n",
        "fanng_path = OUT_DIR / 'fanng.csv'\n",
        "faanf.to_csv(fanng_path, index=False)\n",
        "\n",
        "faanf_path, fanng_path\n"
      ],
      "metadata": {
        "colab": {
          "base_uri": "https://localhost:8080/"
        },
        "id": "-ebbzdyZ3XHR",
        "outputId": "0de14c5a-cb89-4ec9-d62b-4a689793bc52"
      },
      "execution_count": null,
      "outputs": [
        {
          "output_type": "execute_result",
          "data": {
            "text/plain": [
              "(PosixPath('data/faanf.csv'), PosixPath('data/fanng.csv'))"
            ]
          },
          "metadata": {},
          "execution_count": 5
        }
      ]
    },
    {
      "cell_type": "code",
      "source": [
        "#2f\n",
        "f = pd.read_csv(fanng_path)\n",
        "\n",
        "# Convert 'date' to datetime (coerce invalids to NaT)\n",
        "f['date'] = pd.to_datetime(f['date'], errors='coerce')\n",
        "\n",
        "# Ensure 'volume' is integer\n",
        "f['volume'] = pd.to_numeric(f['volume'], errors='coerce')\n",
        "\n",
        "# Drop rows where date/volume could not be parsed\n",
        "f = f.dropna(subset=['date', 'volume']).copy()\n",
        "f['volume'] = f['volume'].astype(int)\n",
        "\n",
        "# Sort\n",
        "f = f.sort_values(['date', 'ticker']).reset_index(drop=True)\n",
        "\n",
        "# Save a clean/sorted version (useful later)\n",
        "sorted_path = OUT_DIR / 'faanf_sorted.csv'\n",
        "f.to_csv(sorted_path, index=False)\n",
        "\n",
        "sorted_path, f.head()\n"
      ],
      "metadata": {
        "colab": {
          "base_uri": "https://localhost:8080/"
        },
        "id": "EDO4-jsA3aTf",
        "outputId": "7e8f2770-3869-41c2-882a-77d72bd5dbca"
      },
      "execution_count": null,
      "outputs": [
        {
          "output_type": "execute_result",
          "data": {
            "text/plain": [
              "(PosixPath('data/faanf_sorted.csv'),\n",
              "         date       open       high        low      close    volume ticker\n",
              " 0 2018-01-02   166.9271   169.0264   166.0442   168.9872  25555934   AAPL\n",
              " 1 2018-01-02  1172.0000  1190.0000  1170.5100  1189.0100   2694494   AMZN\n",
              " 2 2018-01-02   177.6800   181.5800   177.5500   181.4200  18151903     FB\n",
              " 3 2018-01-02  1048.3400  1066.9400  1045.2300  1065.0000   1237564   GOOG\n",
              " 4 2018-01-02   196.1000   201.6500   195.4200   201.0700  10966889   NFLX)"
            ]
          },
          "metadata": {},
          "execution_count": 6
        }
      ]
    },
    {
      "cell_type": "code",
      "source": [
        "#2g:\n",
        "top7 = f.nlargest(7, 'volume')\n",
        "top7_path = OUT_DIR / 'highest_volume_top7.csv'\n",
        "top7.to_csv(top7_path, index=False)\n",
        "\n",
        "top7_path, top7\n"
      ],
      "metadata": {
        "colab": {
          "base_uri": "https://localhost:8080/"
        },
        "id": "859ehvK83cFS",
        "outputId": "e1f07286-8776-42ea-fcd9-e10178fbd3a5"
      },
      "execution_count": null,
      "outputs": [
        {
          "output_type": "execute_result",
          "data": {
            "text/plain": [
              "(PosixPath('data/highest_volume_top7.csv'),\n",
              "            date      open      high       low     close     volume ticker\n",
              " 712  2018-07-26  174.8900  180.1300  173.7500  176.2600  169803668     FB\n",
              " 267  2018-03-20  167.4700  170.2000  161.9500  168.1500  129851768     FB\n",
              " 287  2018-03-26  160.8200  161.1000  149.0200  160.0600  126116634     FB\n",
              " 272  2018-03-21  164.8000  173.4000  163.3000  169.3900  106598834     FB\n",
              " 910  2018-09-21  219.0727  219.6482  215.6097  215.9768   96246748   AAPL\n",
              " 1225 2018-12-21  156.1901  157.4845  148.9909  150.0862   95744384   AAPL\n",
              " 1060 2018-11-02  207.9295  211.9978  203.8414  205.8755   91328654   AAPL)"
            ]
          },
          "metadata": {},
          "execution_count": 7
        }
      ]
    },
    {
      "cell_type": "code",
      "source": [
        "#2h:\n",
        "melted = f.melt(\n",
        "    id_vars=['date', 'ticker'],\n",
        "    var_name='variable',\n",
        "    value_name='value'\n",
        ")\n",
        "melted_path = OUT_DIR / 'faanf_melted.csv'\n",
        "melted.to_csv(melted_path, index=False)\n",
        "\n",
        "melted_path, melted.head(10)\n"
      ],
      "metadata": {
        "colab": {
          "base_uri": "https://localhost:8080/"
        },
        "id": "TbOv7t-x3dkS",
        "outputId": "ac4891f3-7831-455e-f833-3a0038b6bdd6"
      },
      "execution_count": null,
      "outputs": [
        {
          "output_type": "execute_result",
          "data": {
            "text/plain": [
              "(PosixPath('data/faanf_melted.csv'),\n",
              "         date ticker variable      value\n",
              " 0 2018-01-02   AAPL     open   166.9271\n",
              " 1 2018-01-02   AMZN     open  1172.0000\n",
              " 2 2018-01-02     FB     open   177.6800\n",
              " 3 2018-01-02   GOOG     open  1048.3400\n",
              " 4 2018-01-02   NFLX     open   196.1000\n",
              " 5 2018-01-03   AAPL     open   169.2521\n",
              " 6 2018-01-03   AMZN     open  1188.3000\n",
              " 7 2018-01-03     FB     open   181.8800\n",
              " 8 2018-01-03   GOOG     open  1064.3100\n",
              " 9 2018-01-03   NFLX     open   202.0500)"
            ]
          },
          "metadata": {},
          "execution_count": 8
        }
      ]
    }
  ]
}